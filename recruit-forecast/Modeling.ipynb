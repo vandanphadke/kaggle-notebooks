{
 "cells": [
  {
   "cell_type": "code",
   "execution_count": 14,
   "metadata": {
    "collapsed": true
   },
   "outputs": [],
   "source": [
    "import numpy as np\n",
    "import pandas as pd\n",
    "\n",
    "from sklearn.ensemble import RandomForestRegressor\n",
    "\n",
    "import warnings\n",
    "warnings.filterwarnings('ignore')"
   ]
  },
  {
   "cell_type": "code",
   "execution_count": 2,
   "metadata": {
    "collapsed": true
   },
   "outputs": [],
   "source": [
    "complete_train_data = pd.read_csv('data/processed/train_proc_1.csv')\n",
    "complete_test_data = pd.read_csv('data/processed/test_proc_1.csv')"
   ]
  },
  {
   "cell_type": "code",
   "execution_count": 9,
   "metadata": {},
   "outputs": [
    {
     "data": {
      "text/html": [
       "<div>\n",
       "<style scoped>\n",
       "    .dataframe tbody tr th:only-of-type {\n",
       "        vertical-align: middle;\n",
       "    }\n",
       "\n",
       "    .dataframe tbody tr th {\n",
       "        vertical-align: top;\n",
       "    }\n",
       "\n",
       "    .dataframe thead th {\n",
       "        text-align: right;\n",
       "    }\n",
       "</style>\n",
       "<table border=\"1\" class=\"dataframe\">\n",
       "  <thead>\n",
       "    <tr style=\"text-align: right;\">\n",
       "      <th></th>\n",
       "      <th>air_store_id</th>\n",
       "      <th>visit_date</th>\n",
       "      <th>reserve_visitors</th>\n",
       "      <th>calendar_date</th>\n",
       "      <th>day_of_week</th>\n",
       "      <th>holiday_flg</th>\n",
       "      <th>month</th>\n",
       "      <th>day</th>\n",
       "    </tr>\n",
       "  </thead>\n",
       "  <tbody>\n",
       "    <tr>\n",
       "      <th>0</th>\n",
       "      <td>air_00a91d42b08b08d9</td>\n",
       "      <td>2017-04-23</td>\n",
       "      <td>0.0</td>\n",
       "      <td>2017-04-23</td>\n",
       "      <td>6</td>\n",
       "      <td>0</td>\n",
       "      <td>4</td>\n",
       "      <td>23</td>\n",
       "    </tr>\n",
       "    <tr>\n",
       "      <th>1</th>\n",
       "      <td>air_0164b9927d20bcc3</td>\n",
       "      <td>2017-04-23</td>\n",
       "      <td>0.0</td>\n",
       "      <td>2017-04-23</td>\n",
       "      <td>6</td>\n",
       "      <td>0</td>\n",
       "      <td>4</td>\n",
       "      <td>23</td>\n",
       "    </tr>\n",
       "    <tr>\n",
       "      <th>2</th>\n",
       "      <td>air_0241aa3964b7f861</td>\n",
       "      <td>2017-04-23</td>\n",
       "      <td>0.0</td>\n",
       "      <td>2017-04-23</td>\n",
       "      <td>6</td>\n",
       "      <td>0</td>\n",
       "      <td>4</td>\n",
       "      <td>23</td>\n",
       "    </tr>\n",
       "    <tr>\n",
       "      <th>3</th>\n",
       "      <td>air_0328696196e46f18</td>\n",
       "      <td>2017-04-23</td>\n",
       "      <td>0.0</td>\n",
       "      <td>2017-04-23</td>\n",
       "      <td>6</td>\n",
       "      <td>0</td>\n",
       "      <td>4</td>\n",
       "      <td>23</td>\n",
       "    </tr>\n",
       "    <tr>\n",
       "      <th>4</th>\n",
       "      <td>air_034a3d5b40d5b1b1</td>\n",
       "      <td>2017-04-23</td>\n",
       "      <td>0.0</td>\n",
       "      <td>2017-04-23</td>\n",
       "      <td>6</td>\n",
       "      <td>0</td>\n",
       "      <td>4</td>\n",
       "      <td>23</td>\n",
       "    </tr>\n",
       "  </tbody>\n",
       "</table>\n",
       "</div>"
      ],
      "text/plain": [
       "           air_store_id visit_date  reserve_visitors calendar_date  \\\n",
       "0  air_00a91d42b08b08d9 2017-04-23               0.0    2017-04-23   \n",
       "1  air_0164b9927d20bcc3 2017-04-23               0.0    2017-04-23   \n",
       "2  air_0241aa3964b7f861 2017-04-23               0.0    2017-04-23   \n",
       "3  air_0328696196e46f18 2017-04-23               0.0    2017-04-23   \n",
       "4  air_034a3d5b40d5b1b1 2017-04-23               0.0    2017-04-23   \n",
       "\n",
       "   day_of_week  holiday_flg  month  day  \n",
       "0            6            0      4   23  \n",
       "1            6            0      4   23  \n",
       "2            6            0      4   23  \n",
       "3            6            0      4   23  \n",
       "4            6            0      4   23  "
      ]
     },
     "execution_count": 9,
     "metadata": {},
     "output_type": "execute_result"
    }
   ],
   "source": [
    "complete_test_data.head()"
   ]
  },
  {
   "cell_type": "markdown",
   "metadata": {},
   "source": [
    "<h2>Feature Engineering</h2>\n",
    "<p>1. Features from Date (Day of week, month, day of month etc)</p>\n",
    "<h4><b>TODO</b></h4>\n",
    "<p>1. Count of Reserved visitors for the nearby restaurant with same genre (TODO - need to add preprocessing for this step)</p>"
   ]
  },
  {
   "cell_type": "code",
   "execution_count": 4,
   "metadata": {},
   "outputs": [],
   "source": [
    "def create_features(complete_df):\n",
    "    complete_df['visit_date'] = pd.to_datetime(complete_df['visit_date'])\n",
    "    complete_df['month'] = complete_df['visit_date'].dt.month\n",
    "    complete_df['day'] = complete_df['visit_date'].dt.day\n",
    "\n",
    "create_features(complete_train_data)\n",
    "create_features(complete_test_data)"
   ]
  },
  {
   "cell_type": "code",
   "execution_count": 5,
   "metadata": {
    "collapsed": true
   },
   "outputs": [],
   "source": [
    "week_map = {'Monday': 0, 'Tuesday': 1, 'Wednesday': 2, 'Thursday': 3, 'Friday': 4, \n",
    "            'Saturday': 5, 'Sunday': 6}\n",
    "def convert_feature_types(complete_df):\n",
    "    complete_df.day_of_week = complete_df.day_of_week.map(week_map)\n",
    "    \n",
    "convert_feature_types(complete_train_data)\n",
    "convert_feature_types(complete_test_data)"
   ]
  },
  {
   "cell_type": "markdown",
   "metadata": {},
   "source": [
    "## Training"
   ]
  },
  {
   "cell_type": "code",
   "execution_count": 8,
   "metadata": {},
   "outputs": [
    {
     "data": {
      "text/plain": [
       "RandomForestRegressor(bootstrap=True, criterion='mse', max_depth=None,\n",
       "           max_features='auto', max_leaf_nodes=None,\n",
       "           min_impurity_decrease=0.0, min_impurity_split=None,\n",
       "           min_samples_leaf=1, min_samples_split=2,\n",
       "           min_weight_fraction_leaf=0.0, n_estimators=10, n_jobs=1,\n",
       "           oob_score=False, random_state=None, verbose=0, warm_start=False)"
      ]
     },
     "execution_count": 8,
     "metadata": {},
     "output_type": "execute_result"
    }
   ],
   "source": [
    "independent_cols = ['reserve_visitors', 'day_of_week', 'holiday_flg', 'month', 'day']\n",
    "train_x = complete_train_data[independent_cols]\n",
    "train_y = complete_train_data.visitors\n",
    "\n",
    "rf_reg = RandomForestRegressor()\n",
    "rf_reg.fit(train_x, train_y)"
   ]
  },
  {
   "cell_type": "markdown",
   "metadata": {},
   "source": [
    "## Create Submission File"
   ]
  },
  {
   "cell_type": "code",
   "execution_count": 28,
   "metadata": {},
   "outputs": [
    {
     "data": {
      "text/html": [
       "<div>\n",
       "<style scoped>\n",
       "    .dataframe tbody tr th:only-of-type {\n",
       "        vertical-align: middle;\n",
       "    }\n",
       "\n",
       "    .dataframe tbody tr th {\n",
       "        vertical-align: top;\n",
       "    }\n",
       "\n",
       "    .dataframe thead th {\n",
       "        text-align: right;\n",
       "    }\n",
       "</style>\n",
       "<table border=\"1\" class=\"dataframe\">\n",
       "  <thead>\n",
       "    <tr style=\"text-align: right;\">\n",
       "      <th></th>\n",
       "      <th>id</th>\n",
       "      <th>visitors</th>\n",
       "    </tr>\n",
       "  </thead>\n",
       "  <tbody>\n",
       "    <tr>\n",
       "      <th>0</th>\n",
       "      <td>air_00a91d42b08b08d9_2017-04-23</td>\n",
       "      <td>23.911416</td>\n",
       "    </tr>\n",
       "    <tr>\n",
       "      <th>1</th>\n",
       "      <td>air_0164b9927d20bcc3_2017-04-23</td>\n",
       "      <td>23.911416</td>\n",
       "    </tr>\n",
       "    <tr>\n",
       "      <th>2</th>\n",
       "      <td>air_0241aa3964b7f861_2017-04-23</td>\n",
       "      <td>23.911416</td>\n",
       "    </tr>\n",
       "    <tr>\n",
       "      <th>3</th>\n",
       "      <td>air_0328696196e46f18_2017-04-23</td>\n",
       "      <td>23.911416</td>\n",
       "    </tr>\n",
       "    <tr>\n",
       "      <th>4</th>\n",
       "      <td>air_034a3d5b40d5b1b1_2017-04-23</td>\n",
       "      <td>23.911416</td>\n",
       "    </tr>\n",
       "  </tbody>\n",
       "</table>\n",
       "</div>"
      ],
      "text/plain": [
       "                                id   visitors\n",
       "0  air_00a91d42b08b08d9_2017-04-23  23.911416\n",
       "1  air_0164b9927d20bcc3_2017-04-23  23.911416\n",
       "2  air_0241aa3964b7f861_2017-04-23  23.911416\n",
       "3  air_0328696196e46f18_2017-04-23  23.911416\n",
       "4  air_034a3d5b40d5b1b1_2017-04-23  23.911416"
      ]
     },
     "execution_count": 28,
     "metadata": {},
     "output_type": "execute_result"
    }
   ],
   "source": [
    "test_x = complete_test_data[independent_cols]\n",
    "test_x['visitors'] = rf_reg.predict(test_x)\n",
    "\n",
    "submission_file = pd.DataFrame()\n",
    "submission_file['air_store_id'] = complete_test_data['air_store_id']\n",
    "submission_file['visitors'] = test_x['visitors']\n",
    "submission_file['date'] = pd.to_datetime(complete_test_data['visit_date']).dt.date\n",
    "submission_file['id'] = submission_file['air_store_id'].map(str) + '_' + submission_file['date'].map(str)\n",
    "submission_file = submission_file[['id', 'visitors']]\n",
    "submission_file.head()"
   ]
  },
  {
   "cell_type": "code",
   "execution_count": 29,
   "metadata": {
    "collapsed": true
   },
   "outputs": [],
   "source": [
    "submission_file.to_csv('data/processed/submission_1.csv', index=False)"
   ]
  },
  {
   "cell_type": "code",
   "execution_count": null,
   "metadata": {
    "collapsed": true
   },
   "outputs": [],
   "source": []
  }
 ],
 "metadata": {
  "kernelspec": {
   "display_name": "Python 2",
   "language": "python",
   "name": "python2"
  },
  "language_info": {
   "codemirror_mode": {
    "name": "ipython",
    "version": 2
   },
   "file_extension": ".py",
   "mimetype": "text/x-python",
   "name": "python",
   "nbconvert_exporter": "python",
   "pygments_lexer": "ipython2",
   "version": "2.7.13"
  }
 },
 "nbformat": 4,
 "nbformat_minor": 2
}
